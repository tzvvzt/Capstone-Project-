! This is mainly for the Applied Data Science Capstone project.
import pandas as pd
import numpy as np
print('Hello Capstone Project Course!')
